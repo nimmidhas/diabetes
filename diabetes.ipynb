{
 "cells": [
  {
   "cell_type": "code",
   "execution_count": 6,
   "id": "db255a4b-51c6-4274-a039-2a54afc12e81",
   "metadata": {},
   "outputs": [
    {
     "ename": "ModuleNotFoundError",
     "evalue": "No module named 'pandas'",
     "output_type": "error",
     "traceback": [
      "\u001b[1;31m---------------------------------------------------------------------------\u001b[0m",
      "\u001b[1;31mModuleNotFoundError\u001b[0m                       Traceback (most recent call last)",
      "Cell \u001b[1;32mIn[6], line 2\u001b[0m\n\u001b[0;32m      1\u001b[0m \u001b[38;5;66;03m# Import necessary libraries\u001b[39;00m\n\u001b[1;32m----> 2\u001b[0m \u001b[38;5;28;01mimport\u001b[39;00m \u001b[38;5;21;01mpandas\u001b[39;00m \u001b[38;5;28;01mas\u001b[39;00m \u001b[38;5;21;01mpd\u001b[39;00m\n\u001b[0;32m      3\u001b[0m \u001b[38;5;28;01mimport\u001b[39;00m \u001b[38;5;21;01mnumpy\u001b[39;00m \u001b[38;5;28;01mas\u001b[39;00m \u001b[38;5;21;01mnp\u001b[39;00m\n\u001b[0;32m      4\u001b[0m \u001b[38;5;28;01mfrom\u001b[39;00m \u001b[38;5;21;01msklearn\u001b[39;00m\u001b[38;5;21;01m.\u001b[39;00m\u001b[38;5;21;01mmodel_selection\u001b[39;00m \u001b[38;5;28;01mimport\u001b[39;00m train_test_split, cross_val_score\n",
      "\u001b[1;31mModuleNotFoundError\u001b[0m: No module named 'pandas'"
     ]
    }
   ],
   "source": [
    "# Import necessary libraries\n",
    "import pandas as pd\n",
    "import numpy as np\n",
    "from sklearn.model_selection import train_test_split, cross_val_score\n",
    "from sklearn.preprocessing import StandardScaler\n",
    "from sklearn.metrics import accuracy_score, precision_score, recall_score, f1_score\n",
    "from sklearn.linear_model import LogisticRegression\n",
    "from sklearn.tree import DecisionTreeClassifier\n",
    "from sklearn.neural_network import MLPClassifier\n",
    "import warnings\n",
    "warnings.filterwarnings('ignore')\n",
    "import pandas as pd\n",
    "import numpy as np"
   ]
  },
  {
   "cell_type": "code",
   "execution_count": 27,
   "id": "33a2cb39-1009-4960-8c04-40d075c74f09",
   "metadata": {},
   "outputs": [],
   "source": [
    "# Load your dataset from the local file path\n",
    "file_path = 'diabetes.csv'\n",
    "columns = ['Pregnancies', 'Glucose', 'BloodPressure', 'SkinThickness', 'Insulin', 'BMI', 'DiabetesPedigreeFunction', 'Age', 'Outcome']\n",
    "\n",
    "df = pd.read_csv(file_path, names=columns)"
   ]
  },
  {
   "cell_type": "code",
   "execution_count": 28,
   "id": "b2cafe45-bad6-4807-ba7a-289cc5076d1d",
   "metadata": {},
   "outputs": [
    {
     "name": "stdout",
     "output_type": "stream",
     "text": [
      "Pregnancies                 object\n",
      "Glucose                     object\n",
      "BloodPressure               object\n",
      "SkinThickness               object\n",
      "Insulin                     object\n",
      "BMI                         object\n",
      "DiabetesPedigreeFunction    object\n",
      "Age                         object\n",
      "Outcome                     object\n",
      "dtype: object\n"
     ]
    }
   ],
   "source": [
    "# Check the types of the columns to identify any non-numeric values\n",
    "print(df.dtypes)\n",
    "\n",
    "# Replace zero values with NaN for columns that can't have zeros\n",
    "df[['Glucose', 'BloodPressure', 'SkinThickness', 'Insulin', 'BMI']] = df[['Glucose', 'BloodPressure', 'SkinThickness', 'Insulin', 'BMI']].replace(0, np.nan)\n",
    "\n",
    "# Convert columns to numeric if they are not already\n",
    "df = df.apply(pd.to_numeric, errors='coerce')\n",
    "\n",
    "# Fill missing values with the median of each column\n",
    "df.fillna(df.median(), inplace=True)"
   ]
  },
  {
   "cell_type": "code",
   "execution_count": 29,
   "id": "83cf414a-4177-410f-b019-b43fda9265bf",
   "metadata": {},
   "outputs": [
    {
     "name": "stdout",
     "output_type": "stream",
     "text": [
      "   Pregnancies  Glucose  BloodPressure  SkinThickness  Insulin   BMI  \\\n",
      "0          3.0    117.0           72.0           23.0     30.5  32.0   \n",
      "1          6.0    148.0           72.0           35.0      0.0  33.6   \n",
      "2          1.0     85.0           66.0           29.0      0.0  26.6   \n",
      "3          8.0    183.0           64.0            0.0      0.0  23.3   \n",
      "4          1.0     89.0           66.0           23.0     94.0  28.1   \n",
      "\n",
      "   DiabetesPedigreeFunction   Age  Outcome  \n",
      "0                    0.3725  29.0      0.0  \n",
      "1                    0.6270  50.0      1.0  \n",
      "2                    0.3510  31.0      0.0  \n",
      "3                    0.6720  32.0      1.0  \n",
      "4                    0.1670  21.0      0.0  \n"
     ]
    }
   ],
   "source": [
    "# Feature scaling (normalization/standardization) - Optional but recommended for certain models\n",
    "X = df.drop('Outcome', axis=1)  # Features\n",
    "y = df['Outcome']  # Target\n",
    "\n",
    "print(df.head())  # Check the dataframe after processing\n",
    "\n",
    "\n",
    "scaler = StandardScaler()\n",
    "X_scaled = scaler.fit_transform(X)\n",
    "\n",
    "# Split the dataset into training and testing sets\n",
    "X_train, X_test, y_train, y_test = train_test_split(X_scaled, y, test_size=0.2, random_state=42)\n",
    "\n",
    "# Function to train and evaluate models\n",
    "def evaluate_model(model, X_train, X_test, y_train, y_test):\n",
    "    # Train the model\n",
    "    model.fit(X_train, y_train)\n",
    "    \n",
    "    # Predict on test set\n",
    "    y_pred = model.predict(X_test)\n",
    "    \n",
    "    # Evaluate model performance\n",
    "    accuracy = accuracy_score(y_test, y_pred)\n",
    "    precision = precision_score(y_test, y_pred)\n",
    "    recall = recall_score(y_test, y_pred)\n",
    "    f1 = f1_score(y_test, y_pred)\n",
    "    \n",
    "    print(f\"Accuracy: {accuracy:.4f}\")\n",
    "    print(f\"Precision: {precision:.4f}\")\n",
    "    print(f\"Recall: {recall:.4f}\")\n",
    "    print(f\"F1 Score: {f1:.4f}\")\n",
    "    \n",
    "    # Cross-validation for more robust evaluation\n",
    "    cv_scores = cross_val_score(model, X_train, y_train, cv=5)\n",
    "    print(f\"Cross-Validation Accuracy: {cv_scores.mean():.4f} ± {cv_scores.std():.4f}\")\n",
    "    print(\"=\"*40)"
   ]
  },
  {
   "cell_type": "code",
   "execution_count": 30,
   "id": "a2524ced-5c27-4911-a332-124d844efbe4",
   "metadata": {},
   "outputs": [
    {
     "name": "stdout",
     "output_type": "stream",
     "text": [
      "Logistic Regression Results:\n",
      "Accuracy: 0.7727\n",
      "Precision: 0.7250\n",
      "Recall: 0.5472\n",
      "F1 Score: 0.6237\n",
      "Cross-Validation Accuracy: 0.7756 ± 0.0122\n",
      "========================================\n"
     ]
    }
   ],
   "source": [
    "# Logistic Regression\n",
    "print(\"Logistic Regression Results:\")\n",
    "logreg = LogisticRegression()\n",
    "evaluate_model(logreg, X_train, X_test, y_train, y_test)"
   ]
  },
  {
   "cell_type": "code",
   "execution_count": 31,
   "id": "698e217a-bec7-40b2-9788-36610fc4a53a",
   "metadata": {},
   "outputs": [
    {
     "name": "stdout",
     "output_type": "stream",
     "text": [
      "Decision Tree Results:\n",
      "Accuracy: 0.6429\n",
      "Precision: 0.4808\n",
      "Recall: 0.4717\n",
      "F1 Score: 0.4762\n",
      "Cross-Validation Accuracy: 0.6976 ± 0.0331\n",
      "========================================\n"
     ]
    }
   ],
   "source": [
    "# Decision Tree Classifier\n",
    "print(\"Decision Tree Results:\")\n",
    "tree = DecisionTreeClassifier(random_state=42)\n",
    "evaluate_model(tree, X_train, X_test, y_train, y_test)"
   ]
  },
  {
   "cell_type": "code",
   "execution_count": 32,
   "id": "30090fdc-0fbb-4002-abf6-e43d5580abe2",
   "metadata": {},
   "outputs": [
    {
     "name": "stdout",
     "output_type": "stream",
     "text": [
      "Neural Network (MLP) Results:\n",
      "Accuracy: 0.6688\n",
      "Precision: 0.5192\n",
      "Recall: 0.5094\n",
      "F1 Score: 0.5143\n",
      "Cross-Validation Accuracy: 0.7366 ± 0.0265\n",
      "========================================\n"
     ]
    }
   ],
   "source": [
    "# Neural Network (MLP)\n",
    "print(\"Neural Network (MLP) Results:\")\n",
    "mlp = MLPClassifier(hidden_layer_sizes=(100, 50), max_iter=500, random_state=42)\n",
    "evaluate_model(mlp, X_train, X_test, y_train, y_test)"
   ]
  },
  {
   "cell_type": "code",
   "execution_count": null,
   "id": "aef04a8e-a93c-4ab8-88a6-739607176b58",
   "metadata": {},
   "outputs": [],
   "source": []
  },
  {
   "cell_type": "code",
   "execution_count": null,
   "id": "bc81cc52-db5d-4d15-b44c-5ed0990115ab",
   "metadata": {},
   "outputs": [],
   "source": []
  }
 ],
 "metadata": {
  "kernelspec": {
   "display_name": "Python 3",
   "language": "python",
   "name": "python3"
  },
  "language_info": {
   "codemirror_mode": {
    "name": "ipython",
    "version": 3
   },
   "file_extension": ".py",
   "mimetype": "text/x-python",
   "name": "python",
   "nbconvert_exporter": "python",
   "pygments_lexer": "ipython3",
   "version": "3.12.3"
  }
 },
 "nbformat": 4,
 "nbformat_minor": 5
}
